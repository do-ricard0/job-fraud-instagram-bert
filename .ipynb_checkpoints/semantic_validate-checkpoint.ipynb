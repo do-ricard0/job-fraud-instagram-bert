{
 "cells": [
  {
   "cell_type": "code",
   "execution_count": 22,
   "id": "2066219d-1b37-426a-b310-04b030d2de50",
   "metadata": {
    "tags": []
   },
   "outputs": [],
   "source": [
    "import pandas as pd\n",
    "from sklearn.metrics.pairwise import cosine_similarity\n",
    "from sklearn.feature_extraction.text import TfidfVectorizer"
   ]
  },
  {
   "cell_type": "code",
   "execution_count": 50,
   "id": "30324798-cf7c-42ca-a6cb-a7206c9896df",
   "metadata": {
    "tags": []
   },
   "outputs": [],
   "source": [
    "# Load data\n",
    "semantic_search = pd.read_csv('semantic_search.csv')\n",
    "company_ratings = pd.read_csv('company_ratings.csv')"
   ]
  },
  {
   "cell_type": "code",
   "execution_count": 51,
   "id": "78ebe1c4-ac7e-4074-8f11-5011f85d5165",
   "metadata": {
    "tags": []
   },
   "outputs": [],
   "source": [
    "semantic_search['Extracted_Companies'].fillna('', inplace=True)\n",
    "company_ratings['Company Name'].fillna('', inplace=True)"
   ]
  },
  {
   "cell_type": "code",
   "execution_count": 52,
   "id": "79526b09-e5b1-4cf7-9ab7-01b43397ea25",
   "metadata": {
    "tags": []
   },
   "outputs": [],
   "source": [
    "# Vektorisasi\n",
    "vectorizer = TfidfVectorizer()\n",
    "all_companies = pd.concat([semantic_search['Extracted_Companies'], company_ratings['Company Name']], ignore_index=True)\n",
    "vectorizer.fit(all_companies)\n",
    "semantic_vecs = vectorizer.transform(semantic_search['Extracted_Companies'])\n",
    "company_vecs = vectorizer.transform(company_ratings['Company Name'])"
   ]
  },
  {
   "cell_type": "code",
   "execution_count": 53,
   "id": "e4f6ad0b-4434-4f6b-8be7-1903f4502ea0",
   "metadata": {
    "tags": []
   },
   "outputs": [],
   "source": [
    "# Hitung cosine similarity\n",
    "similarity_matrix = cosine_similarity(semantic_vecs, company_vecs)\n",
    "\n",
    "# Menetapkan threshold untuk kesesuaian\n",
    "threshold = 0.5"
   ]
  },
  {
   "cell_type": "code",
   "execution_count": 54,
   "id": "eb39344b-1ee5-4c62-bcd5-687d5954b79a",
   "metadata": {
    "tags": []
   },
   "outputs": [],
   "source": [
    "# Pemetaan ke 'Company Name' yang paling serupa atau kosongkan jika di bawah threshold\n",
    "semantic_search['semantic_validate'] = [\n",
    "    company_ratings['Company Name'][sim.argmax()] if max(sim) >= threshold else ''\n",
    "    for sim in similarity_matrix\n",
    "]\n"
   ]
  },
  {
   "cell_type": "code",
   "execution_count": 55,
   "id": "ec8cface-3f85-4694-93be-6500aa16d5c3",
   "metadata": {
    "tags": []
   },
   "outputs": [
    {
     "name": "stdout",
     "output_type": "stream",
     "text": [
      "Jumlah total perusahaan yang tidak kosong (termasuk duplikat): 758\n",
      "Jumlah unik perusahaan yang tidak kosong: 392\n"
     ]
    }
   ],
   "source": [
    "# Menghitung jumlah total entri yang tidak kosong (termasuk duplikat)\n",
    "total_non_empty = semantic_search[semantic_search['semantic_validate'] != ''].count()['semantic_validate']\n",
    "\n",
    "# Menghitung jumlah entri unik yang tidak kosong\n",
    "unique_non_empty = semantic_search[semantic_search['semantic_validate'] != ''].nunique()['semantic_validate']\n",
    "\n",
    "print(f\"Jumlah total perusahaan yang tidak kosong (termasuk duplikat): {total_non_empty}\")\n",
    "print(f\"Jumlah unik perusahaan yang tidak kosong: {unique_non_empty}\")"
   ]
  },
  {
   "cell_type": "code",
   "execution_count": 56,
   "id": "3caa7f2c-6827-464e-8c7b-11616cb7b025",
   "metadata": {
    "tags": []
   },
   "outputs": [],
   "source": [
    "semantic_search.to_csv('validate_company_updated.csv',index=False)"
   ]
  }
 ],
 "metadata": {
  "environment": {
   "kernel": "python3",
   "name": "tf2-cpu.2-11.m113",
   "type": "gcloud",
   "uri": "gcr.io/deeplearning-platform-release/tf2-cpu.2-11:m113"
  },
  "kernelspec": {
   "display_name": "Python 3",
   "language": "python",
   "name": "python3"
  },
  "language_info": {
   "codemirror_mode": {
    "name": "ipython",
    "version": 3
   },
   "file_extension": ".py",
   "mimetype": "text/x-python",
   "name": "python",
   "nbconvert_exporter": "python",
   "pygments_lexer": "ipython3",
   "version": "3.10.13"
  }
 },
 "nbformat": 4,
 "nbformat_minor": 5
}
