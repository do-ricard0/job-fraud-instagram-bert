{
 "cells": [
  {
   "cell_type": "code",
   "execution_count": 22,
   "id": "2066219d-1b37-426a-b310-04b030d2de50",
   "metadata": {
    "tags": []
   },
   "outputs": [],
   "source": [
    "import pandas as pd\n",
    "from sklearn.metrics.pairwise import cosine_similarity\n",
    "from sklearn.feature_extraction.text import TfidfVectorizer"
   ]
  },
  {
   "cell_type": "code",
   "execution_count": 35,
   "id": "30324798-cf7c-42ca-a6cb-a7206c9896df",
   "metadata": {
    "tags": []
   },
   "outputs": [],
   "source": [
    "# Load data\n",
    "semantic_search = pd.read_csv('semantic_search.csv')\n",
    "company_ratings = pd.read_csv('company_ratings.csv')"
   ]
  },
  {
   "cell_type": "code",
   "execution_count": 36,
   "id": "78ebe1c4-ac7e-4074-8f11-5011f85d5165",
   "metadata": {
    "tags": []
   },
   "outputs": [],
   "source": [
    "semantic_search['Extracted_Companies'].fillna('', inplace=True)\n",
    "company_ratings['Company Name'].fillna('', inplace=True)"
   ]
  },
  {
   "cell_type": "code",
   "execution_count": 37,
   "id": "943c818c-2e9d-4310-95ce-008c5a6861f4",
   "metadata": {
    "tags": []
   },
   "outputs": [],
   "source": [
    "# Preprocessing (misalnya, lowercase, menghapus karakter khusus, dll.)\n",
    "# Ini perlu disesuaikan tergantung pada data Anda\n",
    "semantic_search['Extracted_Companies'] = semantic_search['Extracted_Companies'].str.lower().str.replace('[^a-zA-Z0-9]', ' ', regex=True)\n",
    "company_ratings['Company Name'] = company_ratings['Company Name'].str.lower().str.replace('[^a-zA-Z0-9]', ' ', regex=True)"
   ]
  },
  {
   "cell_type": "code",
   "execution_count": 38,
   "id": "7ab4df62-25c1-4dd0-bb9f-7ce348b7cfd7",
   "metadata": {
    "tags": []
   },
   "outputs": [],
   "source": [
    "# Menggabungkan semua nama perusahaan untuk vektorisasi\n",
    "all_companies = pd.concat([semantic_search['Extracted_Companies'], company_ratings['Company Name']], ignore_index=True)"
   ]
  },
  {
   "cell_type": "code",
   "execution_count": 39,
   "id": "40e0ca5a-3de7-44e7-bbf1-e6eb10d56a28",
   "metadata": {
    "tags": []
   },
   "outputs": [],
   "source": [
    "# Vektorisasi\n",
    "vectorizer = TfidfVectorizer().fit(all_companies)\n",
    "company_vecs = vectorizer.transform(all_companies)"
   ]
  },
  {
   "cell_type": "code",
   "execution_count": 40,
   "id": "bac393a9-954e-4da6-80fa-d72211139090",
   "metadata": {
    "tags": []
   },
   "outputs": [],
   "source": [
    "# Hitung cosine similarity\n",
    "similarity_matrix = cosine_similarity(company_vecs[:len(semantic_search)], company_vecs[len(semantic_search):])"
   ]
  },
  {
   "cell_type": "code",
   "execution_count": 42,
   "id": "151aa486-4291-4dc0-829f-3fa02eeac870",
   "metadata": {
    "tags": []
   },
   "outputs": [],
   "source": [
    "# Menetapkan threshold untuk kesesuaian, misalnya 0.8\n",
    "threshold = 0.5"
   ]
  },
  {
   "cell_type": "code",
   "execution_count": 43,
   "id": "eb39344b-1ee5-4c62-bcd5-687d5954b79a",
   "metadata": {
    "tags": []
   },
   "outputs": [],
   "source": [
    "# Pemetaan ke 'Company Name' yang paling serupa atau kosongkan jika di bawah threshold\n",
    "semantic_search['semantic_validate'] = [\n",
    "    company_ratings['Company Name'][idx] if max(sim) >= threshold else ''\n",
    "    for idx, sim in enumerate(similarity_matrix)\n",
    "]"
   ]
  },
  {
   "cell_type": "code",
   "execution_count": 44,
   "id": "ec8cface-3f85-4694-93be-6500aa16d5c3",
   "metadata": {
    "tags": []
   },
   "outputs": [
    {
     "name": "stdout",
     "output_type": "stream",
     "text": [
      "Jumlah total perusahaan yang tidak kosong (termasuk duplikat): 762\n",
      "Jumlah unik perusahaan yang tidak kosong: 759\n"
     ]
    }
   ],
   "source": [
    "# Menghitung jumlah total entri yang tidak kosong (termasuk duplikat)\n",
    "total_non_empty = semantic_search[semantic_search['semantic_validate'] != ''].count()['semantic_validate']\n",
    "\n",
    "# Menghitung jumlah entri unik yang tidak kosong\n",
    "unique_non_empty = semantic_search[semantic_search['semantic_validate'] != ''].nunique()['semantic_validate']\n",
    "\n",
    "print(f\"Jumlah total perusahaan yang tidak kosong (termasuk duplikat): {total_non_empty}\")\n",
    "print(f\"Jumlah unik perusahaan yang tidak kosong: {unique_non_empty}\")"
   ]
  },
  {
   "cell_type": "code",
   "execution_count": 45,
   "id": "3caa7f2c-6827-464e-8c7b-11616cb7b025",
   "metadata": {
    "tags": []
   },
   "outputs": [],
   "source": [
    "semantic_search.to_csv('validate_company.csv',index=False)"
   ]
  },
  {
   "cell_type": "code",
   "execution_count": null,
   "id": "b44be0e2-2034-4b49-8779-4b639d7e1a4c",
   "metadata": {},
   "outputs": [],
   "source": []
  }
 ],
 "metadata": {
  "environment": {
   "kernel": "python3",
   "name": "tf2-cpu.2-11.m113",
   "type": "gcloud",
   "uri": "gcr.io/deeplearning-platform-release/tf2-cpu.2-11:m113"
  },
  "kernelspec": {
   "display_name": "Python 3",
   "language": "python",
   "name": "python3"
  },
  "language_info": {
   "codemirror_mode": {
    "name": "ipython",
    "version": 3
   },
   "file_extension": ".py",
   "mimetype": "text/x-python",
   "name": "python",
   "nbconvert_exporter": "python",
   "pygments_lexer": "ipython3",
   "version": "3.10.13"
  }
 },
 "nbformat": 4,
 "nbformat_minor": 5
}
