{
 "cells": [
  {
   "cell_type": "code",
   "execution_count": 22,
   "id": "c7e2f2a4-69a4-4847-9946-59797fdc2a6c",
   "metadata": {
    "tags": []
   },
   "outputs": [],
   "source": [
    "import pandas as pd\n",
    "import re\n",
    "from transformers import BertTokenizer"
   ]
  },
  {
   "cell_type": "code",
   "execution_count": 23,
   "id": "01aa974a-a9f1-4990-909a-a6ed737e2fb0",
   "metadata": {
    "tags": []
   },
   "outputs": [],
   "source": [
    "def clean_text(text):\n",
    "    # Menghilangkan karakter non-alfanumerik dan mengganti beberapa karakter\n",
    "    text = re.sub(r'[^a-zA-Z0-9\\s]', '', text)\n",
    "    # Opsi tambahan: mengganti newline dengan spasi, dll.\n",
    "    text = text.replace('\\n', ' ').replace('\\r', '')\n",
    "    return text"
   ]
  },
  {
   "cell_type": "code",
   "execution_count": 24,
   "id": "ba99a4af-d5aa-4667-9c53-82ac608aa528",
   "metadata": {
    "tags": []
   },
   "outputs": [],
   "source": [
    "# Inisialisasi Tokenizer mBERT\n",
    "tokenizer = BertTokenizer.from_pretrained('bert-base-multilingual-cased')"
   ]
  },
  {
   "cell_type": "code",
   "execution_count": 30,
   "id": "971e9cd1-cf88-4ca5-9b0b-5b1df40d3d45",
   "metadata": {
    "tags": []
   },
   "outputs": [],
   "source": [
    "def sliding_window_tokenize(text, max_length=512, stride=50):\n",
    "    # Konversi teks ke token dan inisialisasi segmen\n",
    "    initial_tokens = tokenizer.encode(text, add_special_tokens=False)\n",
    "    total_tokens = len(initial_tokens)\n",
    "    window_segments = []\n",
    "\n",
    "    if total_tokens <= max_length:\n",
    "        # Jika total token kurang dari max_length, tidak perlu sliding window\n",
    "        return [tokenizer.encode(text, add_special_tokens=True)]\n",
    "\n",
    "    for i in range(0, total_tokens, stride):\n",
    "        # Memilih segmen token dengan mempertimbangkan token spesial\n",
    "        window_segment = [tokenizer.cls_token_id] + initial_tokens[i:i + max_length - 2] + [tokenizer.sep_token_id]\n",
    "        window_segments.append(window_segment)\n",
    "\n",
    "    return window_segments"
   ]
  },
  {
   "cell_type": "code",
   "execution_count": 26,
   "id": "b5bc89ac-f6d7-45e4-a0e5-9b4cebd917b3",
   "metadata": {
    "tags": []
   },
   "outputs": [],
   "source": [
    "# Fungsi untuk menggabungkan token menjadi string\n",
    "def tokens_to_string(tokens):\n",
    "    return tokenizer.convert_tokens_to_string(tokenizer.convert_ids_to_tokens(tokens))"
   ]
  },
  {
   "cell_type": "code",
   "execution_count": 27,
   "id": "60f45589-fdad-4149-9745-3326115eb480",
   "metadata": {
    "tags": []
   },
   "outputs": [],
   "source": [
    "# Memuat dataset\n",
    "df = pd.read_csv('validate_company_updated.csv')"
   ]
  },
  {
   "cell_type": "code",
   "execution_count": 31,
   "id": "a6c98dce-40d1-4eb9-9afc-8c8d3098c757",
   "metadata": {
    "tags": []
   },
   "outputs": [],
   "source": [
    "# Pembersihan teks\n",
    "df['cleaned_OCR_text'] = df['OCR_Text'].apply(clean_text)\n",
    "# Sliding window tokenization\n",
    "df['tokenized_segments'] = df['cleaned_OCR_text'].apply(sliding_window_tokenize)"
   ]
  },
  {
   "cell_type": "code",
   "execution_count": 32,
   "id": "d1bd044e-1ec1-4d24-8d48-8b7febcac49e",
   "metadata": {
    "tags": []
   },
   "outputs": [],
   "source": [
    "# Menggabungkan segmen teks yang telah ditokenisasi\n",
    "df['processed_text'] = df['tokenized_segments'].apply(lambda segs: ' '.join([tokens_to_string(seg) for seg in segs]))"
   ]
  },
  {
   "cell_type": "code",
   "execution_count": 33,
   "id": "9e7f4e32-7bb2-4881-ae82-272044971e0b",
   "metadata": {
    "tags": []
   },
   "outputs": [
    {
     "data": {
      "text/plain": [
       "0       [CLS] UWFO MALANG SUGARNUTS INDONESIA PROGRAM ...\n",
       "1       [CLS] WFO JAKARTA PSI PSI JAKARTA PROGRAM MAGA...\n",
       "2       [CLS] WFH FULLTIME Asia Land YES MUNGKIN INI B...\n",
       "3       [CLS] HYBRID SEMARANG hercodigital OPEN INTERN...\n",
       "4       [CLS] UWFH ONLINE KLTC Anude Jiraorshioifaliea...\n",
       "                              ...                        \n",
       "2889    [CLS] RECRUITMENT BeRKAS YANG DibawaH Perusaha...\n",
       "2890    [CLS] PT SOLID WK WE ARE HIRING APPLY NOW Posi...\n",
       "2891    [CLS] We af hiring Designo BAGIAN POTONG SAYUR...\n",
       "2892    [CLS] InHouse Program MCF MAF Kami Sedang Mere...\n",
       "2893    [CLS] Alfamart Alfamidi BERGERAKBERSAMADISABIL...\n",
       "Name: processed_text, Length: 2894, dtype: object"
      ]
     },
     "execution_count": 33,
     "metadata": {},
     "output_type": "execute_result"
    }
   ],
   "source": [
    "df['processed_text']"
   ]
  },
  {
   "cell_type": "code",
   "execution_count": 34,
   "id": "6bd57baa-bd11-450f-a305-a543353b43d5",
   "metadata": {
    "tags": []
   },
   "outputs": [
    {
     "data": {
      "text/html": [
       "<div>\n",
       "<style scoped>\n",
       "    .dataframe tbody tr th:only-of-type {\n",
       "        vertical-align: middle;\n",
       "    }\n",
       "\n",
       "    .dataframe tbody tr th {\n",
       "        vertical-align: top;\n",
       "    }\n",
       "\n",
       "    .dataframe thead th {\n",
       "        text-align: right;\n",
       "    }\n",
       "</style>\n",
       "<table border=\"1\" class=\"dataframe\">\n",
       "  <thead>\n",
       "    <tr style=\"text-align: right;\">\n",
       "      <th></th>\n",
       "      <th>Image URL</th>\n",
       "      <th>Timestamp</th>\n",
       "      <th>Filename</th>\n",
       "      <th>OCR_Text</th>\n",
       "      <th>Perusahaan tidak jelas atau tidak ada informasi valid (40%)</th>\n",
       "      <th>Deskripsi posisi, persyaratan, dan lokasi kerja yang tidak jelas (25%)</th>\n",
       "      <th>Deskripsi pekerjaan tidak spesifik (Jobdesc) (20%)</th>\n",
       "      <th>Tidak ada proses wawancara dan seleksi yang jelas(5%)</th>\n",
       "      <th>Ada permintaan biaya pendaftaran(5%)</th>\n",
       "      <th>Gaji tidak realistis (5%)</th>\n",
       "      <th>Total</th>\n",
       "      <th>Label</th>\n",
       "      <th>Extracted_Companies</th>\n",
       "      <th>semantic_validate</th>\n",
       "      <th>cleaned_OCR_text</th>\n",
       "      <th>tokenized_segments</th>\n",
       "      <th>processed_text</th>\n",
       "    </tr>\n",
       "  </thead>\n",
       "  <tbody>\n",
       "    <tr>\n",
       "      <th>0</th>\n",
       "      <td>https://scontent-xsp2-1.cdninstagram.com/v/t51...</td>\n",
       "      <td>2022-12-28T07:12:37.000Z</td>\n",
       "      <td>2022-12-28_post_lokermagang0_image.jpg</td>\n",
       "      <td>UWFO MALANG SUGARNUTS INDONESIA PROGRAM MAGANG...</td>\n",
       "      <td>0,00</td>\n",
       "      <td>0,25</td>\n",
       "      <td>0,20</td>\n",
       "      <td>0,00</td>\n",
       "      <td>0,00</td>\n",
       "      <td>0,00</td>\n",
       "      <td>0,45</td>\n",
       "      <td>Not Fraud</td>\n",
       "      <td>Sugarnutsco</td>\n",
       "      <td>NaN</td>\n",
       "      <td>UWFO MALANG SUGARNUTS INDONESIA PROGRAM MAGANG...</td>\n",
       "      <td>[[101, 158, 83695, 11403, 27277, 44376, 34065,...</td>\n",
       "      <td>[CLS] UWFO MALANG SUGARNUTS INDONESIA PROGRAM ...</td>\n",
       "    </tr>\n",
       "    <tr>\n",
       "      <th>1</th>\n",
       "      <td>https://scontent-xsp1-3.cdninstagram.com/v/t51...</td>\n",
       "      <td>2022-12-26T08:03:04.000Z</td>\n",
       "      <td>2022-12-26_post_lokermagang1_combined.jpg</td>\n",
       "      <td>WFO JAKARTA PSI PSI JAKARTA PROGRAM MAGANG PSI...</td>\n",
       "      <td>0,00</td>\n",
       "      <td>0,00</td>\n",
       "      <td>0,20</td>\n",
       "      <td>0,00</td>\n",
       "      <td>0,00</td>\n",
       "      <td>0,00</td>\n",
       "      <td>0,20</td>\n",
       "      <td>Not Fraud</td>\n",
       "      <td>PSI</td>\n",
       "      <td>NaN</td>\n",
       "      <td>WFO JAKARTA PSI PSI JAKARTA PROGRAM MAGANG PSI...</td>\n",
       "      <td>[[101, 160, 11565, 11403, 53399, 67813, 46935,...</td>\n",
       "      <td>[CLS] WFO JAKARTA PSI PSI JAKARTA PROGRAM MAGA...</td>\n",
       "    </tr>\n",
       "    <tr>\n",
       "      <th>2</th>\n",
       "      <td>https://instagram.fsub8-2.fna.fbcdn.net/v/t51....</td>\n",
       "      <td>2022-12-26T05:05:33.000Z</td>\n",
       "      <td>2022-12-26_post_lokermagang2_combined.jpg</td>\n",
       "      <td>WFH FULLTIME Asia Land YES, MUNGKIN INI BUAT K...</td>\n",
       "      <td>0,00</td>\n",
       "      <td>0,00</td>\n",
       "      <td>0,00</td>\n",
       "      <td>0,00</td>\n",
       "      <td>0,00</td>\n",
       "      <td>0,00</td>\n",
       "      <td>0,00</td>\n",
       "      <td>Not Fraud</td>\n",
       "      <td>Asia Land</td>\n",
       "      <td>PT Jakarta Land</td>\n",
       "      <td>WFH FULLTIME Asia Land YES MUNGKIN INI BUAT KA...</td>\n",
       "      <td>[[101, 160, 11565, 12396, 143, 100673, 11369, ...</td>\n",
       "      <td>[CLS] WFH FULLTIME Asia Land YES MUNGKIN INI B...</td>\n",
       "    </tr>\n",
       "    <tr>\n",
       "      <th>3</th>\n",
       "      <td>https://instagram.fsub8-2.fna.fbcdn.net/v/t51....</td>\n",
       "      <td>2022-12-24T06:54:18.000Z</td>\n",
       "      <td>2022-12-24_post_lokermagang3_image.jpg</td>\n",
       "      <td>HYBRID SEMARANG hercodigital OPEN INTERNSHIBer...</td>\n",
       "      <td>0,00</td>\n",
       "      <td>0,00</td>\n",
       "      <td>0,20</td>\n",
       "      <td>0,00</td>\n",
       "      <td>0,00</td>\n",
       "      <td>0,00</td>\n",
       "      <td>0,20</td>\n",
       "      <td>Not Fraud</td>\n",
       "      <td>Herco Digital Indonesia</td>\n",
       "      <td>PT Herco Digital Indonesia</td>\n",
       "      <td>HYBRID SEMARANG hercodigital OPEN INTERNSHIBer...</td>\n",
       "      <td>[[101, 145, 14703, 11274, 46876, 11490, 23056,...</td>\n",
       "      <td>[CLS] HYBRID SEMARANG hercodigital OPEN INTERN...</td>\n",
       "    </tr>\n",
       "    <tr>\n",
       "      <th>4</th>\n",
       "      <td>https://instagram.fsub8-1.fna.fbcdn.net/v/t51....</td>\n",
       "      <td>2022-12-22T10:00:46.000Z</td>\n",
       "      <td>2022-12-22_post_lokermagang4_image.jpg</td>\n",
       "      <td>UWFH ONLINE KLTC Anude Jiraorshioifalieaia(iu ...</td>\n",
       "      <td>0,00</td>\n",
       "      <td>0,00</td>\n",
       "      <td>0,00</td>\n",
       "      <td>0,00</td>\n",
       "      <td>0,00</td>\n",
       "      <td>0,00</td>\n",
       "      <td>0,00</td>\n",
       "      <td>Not Fraud</td>\n",
       "      <td>KLTC</td>\n",
       "      <td>NaN</td>\n",
       "      <td>UWFH ONLINE KLTC Anude Jiraorshioifalieaiaiu 6...</td>\n",
       "      <td>[[101, 158, 83695, 12396, 49339, 11369, 83198,...</td>\n",
       "      <td>[CLS] UWFH ONLINE KLTC Anude Jiraorshioifaliea...</td>\n",
       "    </tr>\n",
       "  </tbody>\n",
       "</table>\n",
       "</div>"
      ],
      "text/plain": [
       "                                           Image URL  \\\n",
       "0  https://scontent-xsp2-1.cdninstagram.com/v/t51...   \n",
       "1  https://scontent-xsp1-3.cdninstagram.com/v/t51...   \n",
       "2  https://instagram.fsub8-2.fna.fbcdn.net/v/t51....   \n",
       "3  https://instagram.fsub8-2.fna.fbcdn.net/v/t51....   \n",
       "4  https://instagram.fsub8-1.fna.fbcdn.net/v/t51....   \n",
       "\n",
       "                  Timestamp                                   Filename  \\\n",
       "0  2022-12-28T07:12:37.000Z     2022-12-28_post_lokermagang0_image.jpg   \n",
       "1  2022-12-26T08:03:04.000Z  2022-12-26_post_lokermagang1_combined.jpg   \n",
       "2  2022-12-26T05:05:33.000Z  2022-12-26_post_lokermagang2_combined.jpg   \n",
       "3  2022-12-24T06:54:18.000Z     2022-12-24_post_lokermagang3_image.jpg   \n",
       "4  2022-12-22T10:00:46.000Z     2022-12-22_post_lokermagang4_image.jpg   \n",
       "\n",
       "                                            OCR_Text  \\\n",
       "0  UWFO MALANG SUGARNUTS INDONESIA PROGRAM MAGANG...   \n",
       "1  WFO JAKARTA PSI PSI JAKARTA PROGRAM MAGANG PSI...   \n",
       "2  WFH FULLTIME Asia Land YES, MUNGKIN INI BUAT K...   \n",
       "3  HYBRID SEMARANG hercodigital OPEN INTERNSHIBer...   \n",
       "4  UWFH ONLINE KLTC Anude Jiraorshioifalieaia(iu ...   \n",
       "\n",
       "  Perusahaan tidak jelas atau tidak ada informasi valid (40%)  \\\n",
       "0                                               0,00            \n",
       "1                                               0,00            \n",
       "2                                               0,00            \n",
       "3                                               0,00            \n",
       "4                                               0,00            \n",
       "\n",
       "  Deskripsi posisi, persyaratan, dan lokasi kerja yang tidak jelas (25%)  \\\n",
       "0                                               0,25                       \n",
       "1                                               0,00                       \n",
       "2                                               0,00                       \n",
       "3                                               0,00                       \n",
       "4                                               0,00                       \n",
       "\n",
       "  Deskripsi pekerjaan tidak spesifik (Jobdesc) (20%)  \\\n",
       "0                                               0,20   \n",
       "1                                               0,20   \n",
       "2                                               0,00   \n",
       "3                                               0,20   \n",
       "4                                               0,00   \n",
       "\n",
       "  Tidak ada proses wawancara dan seleksi yang jelas(5%)  \\\n",
       "0                                               0,00      \n",
       "1                                               0,00      \n",
       "2                                               0,00      \n",
       "3                                               0,00      \n",
       "4                                               0,00      \n",
       "\n",
       "  Ada permintaan biaya pendaftaran(5%) Gaji tidak realistis (5%) Total  \\\n",
       "0                                 0,00                      0,00  0,45   \n",
       "1                                 0,00                      0,00  0,20   \n",
       "2                                 0,00                      0,00  0,00   \n",
       "3                                 0,00                      0,00  0,20   \n",
       "4                                 0,00                      0,00  0,00   \n",
       "\n",
       "       Label      Extracted_Companies           semantic_validate  \\\n",
       "0  Not Fraud              Sugarnutsco                         NaN   \n",
       "1  Not Fraud                      PSI                         NaN   \n",
       "2  Not Fraud                Asia Land             PT Jakarta Land   \n",
       "3  Not Fraud  Herco Digital Indonesia  PT Herco Digital Indonesia   \n",
       "4  Not Fraud                     KLTC                         NaN   \n",
       "\n",
       "                                    cleaned_OCR_text  \\\n",
       "0  UWFO MALANG SUGARNUTS INDONESIA PROGRAM MAGANG...   \n",
       "1  WFO JAKARTA PSI PSI JAKARTA PROGRAM MAGANG PSI...   \n",
       "2  WFH FULLTIME Asia Land YES MUNGKIN INI BUAT KA...   \n",
       "3  HYBRID SEMARANG hercodigital OPEN INTERNSHIBer...   \n",
       "4  UWFH ONLINE KLTC Anude Jiraorshioifalieaiaiu 6...   \n",
       "\n",
       "                                  tokenized_segments  \\\n",
       "0  [[101, 158, 83695, 11403, 27277, 44376, 34065,...   \n",
       "1  [[101, 160, 11565, 11403, 53399, 67813, 46935,...   \n",
       "2  [[101, 160, 11565, 12396, 143, 100673, 11369, ...   \n",
       "3  [[101, 145, 14703, 11274, 46876, 11490, 23056,...   \n",
       "4  [[101, 158, 83695, 12396, 49339, 11369, 83198,...   \n",
       "\n",
       "                                      processed_text  \n",
       "0  [CLS] UWFO MALANG SUGARNUTS INDONESIA PROGRAM ...  \n",
       "1  [CLS] WFO JAKARTA PSI PSI JAKARTA PROGRAM MAGA...  \n",
       "2  [CLS] WFH FULLTIME Asia Land YES MUNGKIN INI B...  \n",
       "3  [CLS] HYBRID SEMARANG hercodigital OPEN INTERN...  \n",
       "4  [CLS] UWFH ONLINE KLTC Anude Jiraorshioifaliea...  "
      ]
     },
     "execution_count": 34,
     "metadata": {},
     "output_type": "execute_result"
    }
   ],
   "source": [
    "df.head()"
   ]
  },
  {
   "cell_type": "code",
   "execution_count": null,
   "id": "8d7d6c6a-f1a2-4bc0-b6db-5fee47d33f92",
   "metadata": {},
   "outputs": [],
   "source": []
  }
 ],
 "metadata": {
  "environment": {
   "kernel": "python3",
   "name": "tf2-cpu.2-11.m113",
   "type": "gcloud",
   "uri": "gcr.io/deeplearning-platform-release/tf2-cpu.2-11:m113"
  },
  "kernelspec": {
   "display_name": "Python 3",
   "language": "python",
   "name": "python3"
  },
  "language_info": {
   "codemirror_mode": {
    "name": "ipython",
    "version": 3
   },
   "file_extension": ".py",
   "mimetype": "text/x-python",
   "name": "python",
   "nbconvert_exporter": "python",
   "pygments_lexer": "ipython3",
   "version": "3.10.13"
  }
 },
 "nbformat": 4,
 "nbformat_minor": 5
}
